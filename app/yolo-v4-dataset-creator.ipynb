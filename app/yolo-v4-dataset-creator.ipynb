{
 "cells": [
  {
   "metadata": {},
   "cell_type": "markdown",
   "source": [
    "# Notebook for converting the bounding boxes as per YOLO format"
   ],
   "execution_count": null
  },
  {
   "metadata": {
    "_uuid": "8f2839f25d086af736a60e9eeb907d3b93b6e0e5",
    "_cell_guid": "b1076dfc-b9ad-4769-8c92-a6c4dae69d19",
    "trusted": true
   },
   "cell_type": "code",
   "source": [
    "import numpy as np\n",
    "import pandas as pd\n",
    "import matplotlib.pyplot as plt\n",
    "import seaborn as sns\n",
    "import cv2\n",
    "from ast import literal_eval"
   ],
   "execution_count": 1,
   "outputs": []
  },
  {
   "metadata": {
    "_uuid": "d629ff2d2480ee46fbb7e2d37f6b5fab8052498a",
    "_cell_guid": "79c7e3d0-c299-4dcb-8224-4455121ee9b0",
    "trusted": true
   },
   "cell_type": "code",
   "source": [
    "train_df = pd.read_csv(\"train.csv\")\n",
    "train_df.head()"
   ],
   "execution_count": 3,
   "outputs": [
    {
     "data": {
      "text/plain": "    image_id  width  height                         bbox   source\n0  b6ab77fd7   1024    1024   [834.0, 222.0, 56.0, 36.0]  usask_1\n1  b6ab77fd7   1024    1024  [226.0, 548.0, 130.0, 58.0]  usask_1\n2  b6ab77fd7   1024    1024  [377.0, 504.0, 74.0, 160.0]  usask_1\n3  b6ab77fd7   1024    1024  [834.0, 95.0, 109.0, 107.0]  usask_1\n4  b6ab77fd7   1024    1024  [26.0, 144.0, 124.0, 117.0]  usask_1",
      "text/html": "<div>\n<style scoped>\n    .dataframe tbody tr th:only-of-type {\n        vertical-align: middle;\n    }\n\n    .dataframe tbody tr th {\n        vertical-align: top;\n    }\n\n    .dataframe thead th {\n        text-align: right;\n    }\n</style>\n<table border=\"1\" class=\"dataframe\">\n  <thead>\n    <tr style=\"text-align: right;\">\n      <th></th>\n      <th>image_id</th>\n      <th>width</th>\n      <th>height</th>\n      <th>bbox</th>\n      <th>source</th>\n    </tr>\n  </thead>\n  <tbody>\n    <tr>\n      <th>0</th>\n      <td>b6ab77fd7</td>\n      <td>1024</td>\n      <td>1024</td>\n      <td>[834.0, 222.0, 56.0, 36.0]</td>\n      <td>usask_1</td>\n    </tr>\n    <tr>\n      <th>1</th>\n      <td>b6ab77fd7</td>\n      <td>1024</td>\n      <td>1024</td>\n      <td>[226.0, 548.0, 130.0, 58.0]</td>\n      <td>usask_1</td>\n    </tr>\n    <tr>\n      <th>2</th>\n      <td>b6ab77fd7</td>\n      <td>1024</td>\n      <td>1024</td>\n      <td>[377.0, 504.0, 74.0, 160.0]</td>\n      <td>usask_1</td>\n    </tr>\n    <tr>\n      <th>3</th>\n      <td>b6ab77fd7</td>\n      <td>1024</td>\n      <td>1024</td>\n      <td>[834.0, 95.0, 109.0, 107.0]</td>\n      <td>usask_1</td>\n    </tr>\n    <tr>\n      <th>4</th>\n      <td>b6ab77fd7</td>\n      <td>1024</td>\n      <td>1024</td>\n      <td>[26.0, 144.0, 124.0, 117.0]</td>\n      <td>usask_1</td>\n    </tr>\n  </tbody>\n</table>\n</div>"
     },
     "execution_count": 3,
     "metadata": {},
     "output_type": "execute_result"
    }
   ]
  },
  {
   "cell_type": "code",
   "execution_count": null,
   "outputs": [],
   "source": [],
   "metadata": {
    "collapsed": false,
    "pycharm": {
     "name": "#%%\n"
    }
   }
  },
  {
   "metadata": {
    "trusted": true
   },
   "cell_type": "code",
   "source": [
    "def convert(size, box):\n",
    "    dw = 1. / size[0]\n",
    "    dh = 1. / size[1]\n",
    "    x = (box[0] + box[1]) / 2.0\n",
    "    y = (box[2] + box[3]) / 2.0\n",
    "    w = box[1] - box[0]\n",
    "    h = box[3] - box[2]\n",
    "    x = x * dw\n",
    "    w = w * dw\n",
    "    y = y * dh\n",
    "    h = h * dh\n",
    "    return [x, y, w, h]\n",
    "\n",
    "def convert_to_yolo_label(coco_format_box, w = 1024, h = 1024):\n",
    "    bbox = literal_eval(coco_format_box)\n",
    "    xmin = bbox[0]\n",
    "    xmax = bbox[0] + bbox[2]\n",
    "    ymin = bbox[1]\n",
    "    ymax = bbox[1] + bbox[3]\n",
    "    b = (float(xmin), float(xmax), float(ymin), float(ymax))\n",
    "    yolo_box = convert((w, h), b)\n",
    "    if np.max(yolo_box) > 1 or np.min(yolo_box) < 0: # Take this opportunity to check that conversion works\n",
    "        print(\"BOX HAS AN ISSUE\")\n",
    "    return yolo_box"
   ],
   "execution_count": null,
   "outputs": []
  },
  {
   "metadata": {
    "trusted": true
   },
   "cell_type": "code",
   "source": "train_df['yolo_box'] = train_df.bbox.apply(convert_to_yolo_label)",
   "execution_count": null,
   "outputs": []
  },
  {
   "metadata": {
    "trusted": true
   },
   "cell_type": "code",
   "source": "unique_img_ids = train_df.image_id.unique()",
   "execution_count": null,
   "outputs": []
  },
  {
   "metadata": {
    "trusted": true
   },
   "cell_type": "code",
   "source": "len(unique_img_ids)",
   "execution_count": null,
   "outputs": []
  },
  {
   "metadata": {
    "trusted": true
   },
   "cell_type": "code",
   "source": "from tqdm import tqdm",
   "execution_count": null,
   "outputs": []
  },
  {
   "metadata": {
    "trusted": true
   },
   "cell_type": "code",
   "source": "for img_id in tqdm(unique_img_ids):\n    filt_df = train_df.query(\"image_id == @img_id\")\n    all_boxes = filt_df.yolo_box.values\n    file_name = img_id+\".txt\"\n\n    s = \"0 %s %s %s %s \\n\"\n    with open(file_name, 'a') as file:\n        for i in all_boxes:\n            new_line = (s % tuple(i))\n            file.write(new_line)  ",
   "execution_count": null,
   "outputs": []
  },
  {
   "metadata": {
    "trusted": true
   },
   "cell_type": "code",
   "source": "import glob\nall_imgs = glob.glob(\"../input/global-wheat-detection/train/*.jpg\")\nall_imgs = [i.split(\"/\")[-1].replace(\".jpg\", \"\") for i in all_imgs]",
   "execution_count": null,
   "outputs": []
  },
  {
   "metadata": {
    "trusted": true
   },
   "cell_type": "code",
   "source": "negative_images = set(all_imgs) - set(unique_img_ids)",
   "execution_count": null,
   "outputs": []
  },
  {
   "metadata": {
    "trusted": true
   },
   "cell_type": "code",
   "source": "for i in tqdm(list(negative_images)):\n    file_name = i+\".txt\"\n    with open(file_name, 'w') as fp: \n        pass",
   "execution_count": null,
   "outputs": []
  },
  {
   "metadata": {
    "trusted": true
   },
   "cell_type": "code",
   "source": "",
   "execution_count": null,
   "outputs": []
  }
 ],
 "metadata": {
  "kernelspec": {
   "language": "python",
   "display_name": "Python 3",
   "name": "python3"
  },
  "language_info": {
   "pygments_lexer": "ipython3",
   "nbconvert_exporter": "python",
   "version": "3.6.4",
   "file_extension": ".py",
   "codemirror_mode": {
    "name": "ipython",
    "version": 3
   },
   "name": "python",
   "mimetype": "text/x-python"
  }
 },
 "nbformat": 4,
 "nbformat_minor": 4
}